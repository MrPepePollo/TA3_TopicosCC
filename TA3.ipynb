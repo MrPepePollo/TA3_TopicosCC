{
 "cells": [
  {
   "cell_type": "code",
   "id": "initial_id",
   "metadata": {
    "collapsed": true,
    "ExecuteTime": {
     "end_time": "2024-06-02T20:31:08.642125Z",
     "start_time": "2024-06-02T20:31:07.207685Z"
    }
   },
   "source": [
    "import pandas as pd\n",
    "from mlxtend.frequent_patterns import fpgrowth, association_rules\n",
    "import random\n",
    "\n",
    "df = pd.read_csv('basket_analysis.csv', sep=',', header=0, index_col=0)\n",
    "\n",
    "df"
   ],
   "outputs": [
    {
     "data": {
      "text/plain": [
       "     Apple  Bread  Butter  Cheese   Corn   Dill   Eggs  Ice cream  \\\n",
       "0    False   True   False   False   True   True  False       True   \n",
       "1    False  False   False   False  False  False  False      False   \n",
       "2     True  False    True   False  False   True  False       True   \n",
       "3    False  False    True    True  False   True  False      False   \n",
       "4     True   True   False   False  False  False  False      False   \n",
       "..     ...    ...     ...     ...    ...    ...    ...        ...   \n",
       "994  False   True   False   False  False  False   True      False   \n",
       "995   True  False   False   False   True  False  False      False   \n",
       "996   True  False   False   False   True   True  False      False   \n",
       "997  False  False    True    True   True  False   True       True   \n",
       "998  False  False   False   False  False  False  False      False   \n",
       "\n",
       "     Kidney Beans   Milk  Nutmeg  Onion  Sugar  Unicorn  Yogurt  chocolate  \n",
       "0           False  False   False  False   True    False    True       True  \n",
       "1           False   True   False  False  False    False   False      False  \n",
       "2           False   True   False  False  False    False    True       True  \n",
       "3           False   True    True   True  False    False   False      False  \n",
       "4           False  False   False  False  False    False   False      False  \n",
       "..            ...    ...     ...    ...    ...      ...     ...        ...  \n",
       "994         False  False   False  False  False     True   False       True  \n",
       "995          True   True    True  False  False    False    True      False  \n",
       "996         False  False   False  False   True    False   False       True  \n",
       "997          True  False    True  False   True    False    True       True  \n",
       "998         False   True   False  False  False    False   False       True  \n",
       "\n",
       "[999 rows x 16 columns]"
      ],
      "text/html": [
       "<div>\n",
       "<style scoped>\n",
       "    .dataframe tbody tr th:only-of-type {\n",
       "        vertical-align: middle;\n",
       "    }\n",
       "\n",
       "    .dataframe tbody tr th {\n",
       "        vertical-align: top;\n",
       "    }\n",
       "\n",
       "    .dataframe thead th {\n",
       "        text-align: right;\n",
       "    }\n",
       "</style>\n",
       "<table border=\"1\" class=\"dataframe\">\n",
       "  <thead>\n",
       "    <tr style=\"text-align: right;\">\n",
       "      <th></th>\n",
       "      <th>Apple</th>\n",
       "      <th>Bread</th>\n",
       "      <th>Butter</th>\n",
       "      <th>Cheese</th>\n",
       "      <th>Corn</th>\n",
       "      <th>Dill</th>\n",
       "      <th>Eggs</th>\n",
       "      <th>Ice cream</th>\n",
       "      <th>Kidney Beans</th>\n",
       "      <th>Milk</th>\n",
       "      <th>Nutmeg</th>\n",
       "      <th>Onion</th>\n",
       "      <th>Sugar</th>\n",
       "      <th>Unicorn</th>\n",
       "      <th>Yogurt</th>\n",
       "      <th>chocolate</th>\n",
       "    </tr>\n",
       "  </thead>\n",
       "  <tbody>\n",
       "    <tr>\n",
       "      <th>0</th>\n",
       "      <td>False</td>\n",
       "      <td>True</td>\n",
       "      <td>False</td>\n",
       "      <td>False</td>\n",
       "      <td>True</td>\n",
       "      <td>True</td>\n",
       "      <td>False</td>\n",
       "      <td>True</td>\n",
       "      <td>False</td>\n",
       "      <td>False</td>\n",
       "      <td>False</td>\n",
       "      <td>False</td>\n",
       "      <td>True</td>\n",
       "      <td>False</td>\n",
       "      <td>True</td>\n",
       "      <td>True</td>\n",
       "    </tr>\n",
       "    <tr>\n",
       "      <th>1</th>\n",
       "      <td>False</td>\n",
       "      <td>False</td>\n",
       "      <td>False</td>\n",
       "      <td>False</td>\n",
       "      <td>False</td>\n",
       "      <td>False</td>\n",
       "      <td>False</td>\n",
       "      <td>False</td>\n",
       "      <td>False</td>\n",
       "      <td>True</td>\n",
       "      <td>False</td>\n",
       "      <td>False</td>\n",
       "      <td>False</td>\n",
       "      <td>False</td>\n",
       "      <td>False</td>\n",
       "      <td>False</td>\n",
       "    </tr>\n",
       "    <tr>\n",
       "      <th>2</th>\n",
       "      <td>True</td>\n",
       "      <td>False</td>\n",
       "      <td>True</td>\n",
       "      <td>False</td>\n",
       "      <td>False</td>\n",
       "      <td>True</td>\n",
       "      <td>False</td>\n",
       "      <td>True</td>\n",
       "      <td>False</td>\n",
       "      <td>True</td>\n",
       "      <td>False</td>\n",
       "      <td>False</td>\n",
       "      <td>False</td>\n",
       "      <td>False</td>\n",
       "      <td>True</td>\n",
       "      <td>True</td>\n",
       "    </tr>\n",
       "    <tr>\n",
       "      <th>3</th>\n",
       "      <td>False</td>\n",
       "      <td>False</td>\n",
       "      <td>True</td>\n",
       "      <td>True</td>\n",
       "      <td>False</td>\n",
       "      <td>True</td>\n",
       "      <td>False</td>\n",
       "      <td>False</td>\n",
       "      <td>False</td>\n",
       "      <td>True</td>\n",
       "      <td>True</td>\n",
       "      <td>True</td>\n",
       "      <td>False</td>\n",
       "      <td>False</td>\n",
       "      <td>False</td>\n",
       "      <td>False</td>\n",
       "    </tr>\n",
       "    <tr>\n",
       "      <th>4</th>\n",
       "      <td>True</td>\n",
       "      <td>True</td>\n",
       "      <td>False</td>\n",
       "      <td>False</td>\n",
       "      <td>False</td>\n",
       "      <td>False</td>\n",
       "      <td>False</td>\n",
       "      <td>False</td>\n",
       "      <td>False</td>\n",
       "      <td>False</td>\n",
       "      <td>False</td>\n",
       "      <td>False</td>\n",
       "      <td>False</td>\n",
       "      <td>False</td>\n",
       "      <td>False</td>\n",
       "      <td>False</td>\n",
       "    </tr>\n",
       "    <tr>\n",
       "      <th>...</th>\n",
       "      <td>...</td>\n",
       "      <td>...</td>\n",
       "      <td>...</td>\n",
       "      <td>...</td>\n",
       "      <td>...</td>\n",
       "      <td>...</td>\n",
       "      <td>...</td>\n",
       "      <td>...</td>\n",
       "      <td>...</td>\n",
       "      <td>...</td>\n",
       "      <td>...</td>\n",
       "      <td>...</td>\n",
       "      <td>...</td>\n",
       "      <td>...</td>\n",
       "      <td>...</td>\n",
       "      <td>...</td>\n",
       "    </tr>\n",
       "    <tr>\n",
       "      <th>994</th>\n",
       "      <td>False</td>\n",
       "      <td>True</td>\n",
       "      <td>False</td>\n",
       "      <td>False</td>\n",
       "      <td>False</td>\n",
       "      <td>False</td>\n",
       "      <td>True</td>\n",
       "      <td>False</td>\n",
       "      <td>False</td>\n",
       "      <td>False</td>\n",
       "      <td>False</td>\n",
       "      <td>False</td>\n",
       "      <td>False</td>\n",
       "      <td>True</td>\n",
       "      <td>False</td>\n",
       "      <td>True</td>\n",
       "    </tr>\n",
       "    <tr>\n",
       "      <th>995</th>\n",
       "      <td>True</td>\n",
       "      <td>False</td>\n",
       "      <td>False</td>\n",
       "      <td>False</td>\n",
       "      <td>True</td>\n",
       "      <td>False</td>\n",
       "      <td>False</td>\n",
       "      <td>False</td>\n",
       "      <td>True</td>\n",
       "      <td>True</td>\n",
       "      <td>True</td>\n",
       "      <td>False</td>\n",
       "      <td>False</td>\n",
       "      <td>False</td>\n",
       "      <td>True</td>\n",
       "      <td>False</td>\n",
       "    </tr>\n",
       "    <tr>\n",
       "      <th>996</th>\n",
       "      <td>True</td>\n",
       "      <td>False</td>\n",
       "      <td>False</td>\n",
       "      <td>False</td>\n",
       "      <td>True</td>\n",
       "      <td>True</td>\n",
       "      <td>False</td>\n",
       "      <td>False</td>\n",
       "      <td>False</td>\n",
       "      <td>False</td>\n",
       "      <td>False</td>\n",
       "      <td>False</td>\n",
       "      <td>True</td>\n",
       "      <td>False</td>\n",
       "      <td>False</td>\n",
       "      <td>True</td>\n",
       "    </tr>\n",
       "    <tr>\n",
       "      <th>997</th>\n",
       "      <td>False</td>\n",
       "      <td>False</td>\n",
       "      <td>True</td>\n",
       "      <td>True</td>\n",
       "      <td>True</td>\n",
       "      <td>False</td>\n",
       "      <td>True</td>\n",
       "      <td>True</td>\n",
       "      <td>True</td>\n",
       "      <td>False</td>\n",
       "      <td>True</td>\n",
       "      <td>False</td>\n",
       "      <td>True</td>\n",
       "      <td>False</td>\n",
       "      <td>True</td>\n",
       "      <td>True</td>\n",
       "    </tr>\n",
       "    <tr>\n",
       "      <th>998</th>\n",
       "      <td>False</td>\n",
       "      <td>False</td>\n",
       "      <td>False</td>\n",
       "      <td>False</td>\n",
       "      <td>False</td>\n",
       "      <td>False</td>\n",
       "      <td>False</td>\n",
       "      <td>False</td>\n",
       "      <td>False</td>\n",
       "      <td>True</td>\n",
       "      <td>False</td>\n",
       "      <td>False</td>\n",
       "      <td>False</td>\n",
       "      <td>False</td>\n",
       "      <td>False</td>\n",
       "      <td>True</td>\n",
       "    </tr>\n",
       "  </tbody>\n",
       "</table>\n",
       "<p>999 rows × 16 columns</p>\n",
       "</div>"
      ]
     },
     "execution_count": 2,
     "metadata": {},
     "output_type": "execute_result"
    }
   ],
   "execution_count": 2
  },
  {
   "metadata": {
    "ExecuteTime": {
     "end_time": "2024-06-02T20:43:58.113711Z",
     "start_time": "2024-06-02T20:43:58.110708Z"
    }
   },
   "cell_type": "code",
   "source": [
    "def apply_csp(df, must_have_items, must_not_have_items):\n",
    "    # Mantener solo las transacciones que contienen al menos uno de los items\n",
    "    df = df[df[must_have_items].sum(axis=1) > 0]\n",
    "    # Eliminar las transacciones que contienen alguno de los items\n",
    "    df = df[df[must_not_have_items].sum(axis=1) == 0]\n",
    "    df = df.drop(columns=must_not_have_items)\n",
    "    return df"
   ],
   "id": "5b14910fbd8466c5",
   "outputs": [],
   "execution_count": 27
  },
  {
   "metadata": {
    "ExecuteTime": {
     "end_time": "2024-06-02T20:52:12.193522Z",
     "start_time": "2024-06-02T20:52:12.189519Z"
    }
   },
   "cell_type": "code",
   "source": [
    "print(f'Numero de columnas: {len(df.columns)}')\n",
    "print(df.columns)"
   ],
   "id": "d06f4ca5bb14b09e",
   "outputs": [
    {
     "name": "stdout",
     "output_type": "stream",
     "text": [
      "Numero de columnas: 16\n",
      "Index(['Apple', 'Bread', 'Butter', 'Cheese', 'Corn', 'Dill', 'Eggs',\n",
      "       'Ice cream', 'Kidney Beans', 'Milk', 'Nutmeg', 'Onion', 'Sugar',\n",
      "       'Unicorn', 'Yogurt', 'chocolate'],\n",
      "      dtype='object')\n"
     ]
    }
   ],
   "execution_count": 50
  },
  {
   "metadata": {
    "ExecuteTime": {
     "end_time": "2024-06-02T20:44:02.147971Z",
     "start_time": "2024-06-02T20:44:02.142351Z"
    }
   },
   "cell_type": "code",
   "source": [
    "must_have_items = ['Apple', 'Bread', 'Butter', 'Cheese', 'Corn', 'Dill', 'Eggs',\n",
    "       'Ice cream', 'Kidney Beans', 'Milk', 'Nutmeg', 'Onion', 'Sugar',\n",
    "       'Unicorn', 'Yogurt', 'chocolate']\n",
    "must_not_have_items =['Dill']\n",
    "\n",
    "\n",
    "df_filtered = apply_csp(df, must_have_items, must_not_have_items)"
   ],
   "id": "9cb9cf7b5b8f8dae",
   "outputs": [],
   "execution_count": 29
  },
  {
   "metadata": {
    "ExecuteTime": {
     "end_time": "2024-06-02T20:44:04.628470Z",
     "start_time": "2024-06-02T20:44:04.625521Z"
    }
   },
   "cell_type": "code",
   "source": "df_filtered.columns",
   "id": "4d44d47d52b997a8",
   "outputs": [
    {
     "data": {
      "text/plain": [
       "Index(['Apple', 'Bread', 'Butter', 'Cheese', 'Corn', 'Eggs', 'Ice cream',\n",
       "       'Kidney Beans', 'Milk', 'Nutmeg', 'Onion', 'Sugar', 'Unicorn', 'Yogurt',\n",
       "       'chocolate'],\n",
       "      dtype='object')"
      ]
     },
     "execution_count": 30,
     "metadata": {},
     "output_type": "execute_result"
    }
   ],
   "execution_count": 30
  },
  {
   "metadata": {
    "ExecuteTime": {
     "end_time": "2024-06-02T20:47:30.366490Z",
     "start_time": "2024-06-02T20:47:30.363074Z"
    }
   },
   "cell_type": "code",
   "source": [
    "# Numero total de transacciones\n",
    "total_transactions_filtered = df_filtered.shape[0]\n",
    "\n",
    "# Numero de items unicos\n",
    "unique_items_filtered = df_filtered.columns\n",
    "\n",
    "print(f'Número total de transacciones: {total_transactions_filtered}')\n",
    "print(f'Número de items únicos: {len(unique_items_filtered)}')\n",
    "print(f'Items únicos: {unique_items_filtered}')"
   ],
   "id": "d3e4a6b5c469363c",
   "outputs": [
    {
     "name": "stdout",
     "output_type": "stream",
     "text": [
      "Número total de transacciones: 601\n",
      "Número de items únicos: 15\n",
      "Items únicos: Index(['Apple', 'Bread', 'Butter', 'Cheese', 'Corn', 'Eggs', 'Ice cream',\n",
      "       'Kidney Beans', 'Milk', 'Nutmeg', 'Onion', 'Sugar', 'Unicorn', 'Yogurt',\n",
      "       'chocolate'],\n",
      "      dtype='object')\n"
     ]
    }
   ],
   "execution_count": 42
  },
  {
   "metadata": {
    "ExecuteTime": {
     "end_time": "2024-06-02T20:47:31.801974Z",
     "start_time": "2024-06-02T20:47:31.765904Z"
    }
   },
   "cell_type": "code",
   "source": [
    "# Encontrar itemsets frecuentes\n",
    "frequent_itemsets = fpgrowth(df, min_support=0.1, use_colnames=True)\n",
    "\n",
    "# Encontrar reglas de asociacion\n",
    "rules = association_rules(frequent_itemsets, metric=\"confidence\", min_threshold=0.15)\n",
    "\n",
    "print(frequent_itemsets)\n",
    "print(rules)"
   ],
   "id": "66d8dd29f6c24093",
   "outputs": [
    {
     "name": "stdout",
     "output_type": "stream",
     "text": [
      "      support           itemsets\n",
      "0    0.421421        (chocolate)\n",
      "1    0.420420           (Yogurt)\n",
      "2    0.410410        (Ice cream)\n",
      "3    0.409409            (Sugar)\n",
      "4    0.407407             (Corn)\n",
      "..        ...                ...\n",
      "164  0.169169     (Eggs, Cheese)\n",
      "165  0.182182  (chocolate, Eggs)\n",
      "166  0.180180       (Eggs, Corn)\n",
      "167  0.168168    (Unicorn, Eggs)\n",
      "168  0.157157       (Eggs, Dill)\n",
      "\n",
      "[169 rows x 2 columns]\n",
      "     antecedents  consequents  antecedent support  consequent support  \\\n",
      "0       (Yogurt)  (chocolate)            0.420420            0.421421   \n",
      "1    (chocolate)     (Yogurt)            0.421421            0.420420   \n",
      "2    (chocolate)  (Ice cream)            0.421421            0.410410   \n",
      "3    (Ice cream)  (chocolate)            0.410410            0.421421   \n",
      "4       (Yogurt)  (Ice cream)            0.420420            0.410410   \n",
      "..           ...          ...                 ...                 ...   \n",
      "433       (Corn)       (Eggs)            0.407407            0.384384   \n",
      "434    (Unicorn)       (Eggs)            0.389389            0.384384   \n",
      "435       (Eggs)    (Unicorn)            0.384384            0.389389   \n",
      "436       (Eggs)       (Dill)            0.384384            0.398398   \n",
      "437       (Dill)       (Eggs)            0.398398            0.384384   \n",
      "\n",
      "      support  confidence      lift  leverage  conviction  zhangs_metric  \n",
      "0    0.198198    0.471429  1.118663  0.021024    1.094608       0.183022  \n",
      "1    0.198198    0.470309  1.118663  0.021024    1.094184       0.183339  \n",
      "2    0.202202    0.479810  1.169098  0.029246    1.133412       0.249991  \n",
      "3    0.202202    0.492683  1.169098  0.029246    1.140467       0.245323  \n",
      "4    0.182182    0.433333  1.055854  0.009637    1.040452       0.091271  \n",
      "..        ...         ...       ...       ...         ...            ...  \n",
      "433  0.180180    0.442260  1.150568  0.023579    1.103769       0.220833  \n",
      "434  0.168168    0.431877  1.123554  0.018493    1.083595       0.180094  \n",
      "435  0.168168    0.437500  1.123554  0.018493    1.085530       0.178630  \n",
      "436  0.157157    0.408854  1.026245  0.004019    1.017687       0.041541  \n",
      "437  0.157157    0.394472  1.026245  0.004019    1.016660       0.042509  \n",
      "\n",
      "[438 rows x 10 columns]\n"
     ]
    }
   ],
   "execution_count": 43
  },
  {
   "metadata": {
    "ExecuteTime": {
     "end_time": "2024-06-02T20:48:07.925516Z",
     "start_time": "2024-06-02T20:48:07.922096Z"
    }
   },
   "cell_type": "code",
   "source": [
    "def recommend_products_with_constraints(purchased_items, must_have_items, must_not_have_items):\n",
    "    relevant_rules = pd.DataFrame()\n",
    "\n",
    "    for item in purchased_items:\n",
    "        item_rules = rules[rules['antecedents'].apply(lambda x: item in set(x))]\n",
    "        relevant_rules = pd.concat([relevant_rules, item_rules])\n",
    "\n",
    "    relevant_rules = relevant_rules[~relevant_rules['consequents'].apply(lambda x: any(item in set(x) for item in must_not_have_items))]\n",
    "\n",
    "    relevant_rules = relevant_rules.sort_values(by='confidence', ascending=False)\n",
    "\n",
    "    if not relevant_rules.empty:\n",
    "        recommended_products = list(relevant_rules.iloc[0]['consequents'])\n",
    "        return recommended_products\n",
    "    else:\n",
    "        return []"
   ],
   "id": "78d6a99b5e5150af",
   "outputs": [],
   "execution_count": 46
  },
  {
   "metadata": {
    "ExecuteTime": {
     "end_time": "2024-06-02T20:48:21.432869Z",
     "start_time": "2024-06-02T20:48:21.409848Z"
    }
   },
   "cell_type": "code",
   "source": [
    "for _ in range(10):\n",
    "    random_items = random.sample(list(unique_items_filtered), k=random.randint(1, 3))\n",
    "\n",
    "    recommended_products = recommend_products_with_constraints(random_items, must_have_items, must_not_have_items)\n",
    "\n",
    "    print(f'Items seleccionados: {random_items}')\n",
    "    print(f'Productos recomendados: {recommended_products}\\n')"
   ],
   "id": "5d543b4f3c12b537",
   "outputs": [
    {
     "name": "stdout",
     "output_type": "stream",
     "text": [
      "Items seleccionados: ['Onion']\n",
      "Productos recomendados: ['Nutmeg']\n",
      "\n",
      "Items seleccionados: ['chocolate', 'Kidney Beans']\n",
      "Productos recomendados: ['Milk']\n",
      "\n",
      "Items seleccionados: ['Sugar', 'Eggs', 'Yogurt']\n",
      "Productos recomendados: ['Butter']\n",
      "\n",
      "Items seleccionados: ['chocolate', 'Yogurt']\n",
      "Productos recomendados: ['Milk']\n",
      "\n",
      "Items seleccionados: ['Cheese']\n",
      "Productos recomendados: ['Onion']\n",
      "\n",
      "Items seleccionados: ['Eggs', 'Corn']\n",
      "Productos recomendados: ['Kidney Beans']\n",
      "\n",
      "Items seleccionados: ['Unicorn', 'Ice cream', 'Milk']\n",
      "Productos recomendados: ['chocolate']\n",
      "\n",
      "Items seleccionados: ['Cheese', 'Kidney Beans']\n",
      "Productos recomendados: ['Onion']\n",
      "\n",
      "Items seleccionados: ['chocolate']\n",
      "Productos recomendados: ['Milk']\n",
      "\n",
      "Items seleccionados: ['Sugar', 'Butter']\n",
      "Productos recomendados: ['Ice cream']\n",
      "\n"
     ]
    }
   ],
   "execution_count": 48
  }
 ],
 "metadata": {
  "kernelspec": {
   "display_name": "Python 3",
   "language": "python",
   "name": "python3"
  },
  "language_info": {
   "codemirror_mode": {
    "name": "ipython",
    "version": 2
   },
   "file_extension": ".py",
   "mimetype": "text/x-python",
   "name": "python",
   "nbconvert_exporter": "python",
   "pygments_lexer": "ipython2",
   "version": "2.7.6"
  }
 },
 "nbformat": 4,
 "nbformat_minor": 5
}
